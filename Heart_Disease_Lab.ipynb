{
  "nbformat": 4,
  "nbformat_minor": 0,
  "metadata": {
    "colab": {
      "provenance": [],
      "authorship_tag": "ABX9TyNgCEIHKFQwpWbt2NDCIW+/",
      "include_colab_link": true
    },
    "kernelspec": {
      "name": "python3",
      "display_name": "Python 3"
    },
    "language_info": {
      "name": "python"
    }
  },
  "cells": [
    {
      "cell_type": "markdown",
      "metadata": {
        "id": "view-in-github",
        "colab_type": "text"
      },
      "source": [
        "<a href=\"https://colab.research.google.com/github/jww2145/heart-disease/blob/main/Heart_Disease_Lab.ipynb\" target=\"_parent\"><img src=\"https://colab.research.google.com/assets/colab-badge.svg\" alt=\"Open In Colab\"/></a>"
      ]
    },
    {
      "cell_type": "markdown",
      "source": [
        "**Proposal**\n",
        "\n",
        "We plan on using [this](https://https://www.kaggle.com/datasets/cherngs/heart-disease-cleveland-uci) dataset found on Kaggle regarding the presence of heart disease of 297 patients in a Cleaveland Clinic. In the introductory paper, led by Professor Robert Detrano, it was mentioned the Kaggle dataset was used to compare actual presence of heart disease in patients with results gained from applying a Bayesian algorithm. As this is our first time utilizing machine learning, our first step would be to follow the methodology laid out by Professor Detrano and compare our model to his model, presented in the research. This way, we can ensure that our dataset is trained correctly before moving on."
      ],
      "metadata": {
        "id": "abbNeYYoUly_"
      }
    },
    {
      "cell_type": "code",
      "source": [
        "import numpy as np\n",
        "import pandas as pd\n",
        "import matplotlib as mpl\n",
        "import matplotlib.pyplot as plt"
      ],
      "metadata": {
        "id": "JEbTA-nBVL2a"
      },
      "execution_count": 14,
      "outputs": []
    },
    {
      "cell_type": "code",
      "source": [
        "#import kaggle dataset\n",
        "\n",
        "from google.colab import drive\n",
        "drive.mount('/content/drive')\n",
        "\n",
        "#change the file path when trying to run from your local machine\n",
        "df = pd.read_csv('/content/drive/My Drive/Heart Disease/heart_cleveland_upload.csv')"
      ],
      "metadata": {
        "colab": {
          "base_uri": "https://localhost:8080/"
        },
        "id": "wS0r6fEbVYo5",
        "outputId": "3072ee59-18ee-4b25-d7aa-d1ea480c9622"
      },
      "execution_count": 47,
      "outputs": [
        {
          "output_type": "stream",
          "name": "stdout",
          "text": [
            "Drive already mounted at /content/drive; to attempt to forcibly remount, call drive.mount(\"/content/drive\", force_remount=True).\n"
          ]
        }
      ]
    },
    {
      "cell_type": "markdown",
      "source": [
        "Because the dataset found on Kaggle has been pre-cleaned and processed, we do not need to worry about verifying the data on our own."
      ],
      "metadata": {
        "id": "xPzsp1X_X7nd"
      }
    },
    {
      "cell_type": "code",
      "source": [
        "# condition is our target column - as it indicates the presence of heart disease in a patient\n",
        "condition = df[\"condition\"]\n"
      ],
      "metadata": {
        "id": "66fFq2koX0Ck",
        "colab": {
          "base_uri": "https://localhost:8080/"
        },
        "outputId": "a6a77249-b22f-4711-e436-92a17430743d"
      },
      "execution_count": 50,
      "outputs": [
        {
          "output_type": "stream",
          "name": "stdout",
          "text": [
            "0      0\n",
            "1      0\n",
            "2      0\n",
            "3      1\n",
            "4      0\n",
            "      ..\n",
            "292    1\n",
            "293    1\n",
            "294    1\n",
            "295    0\n",
            "296    1\n",
            "Name: condition, Length: 297, dtype: int64\n"
          ]
        }
      ]
    },
    {
      "cell_type": "code",
      "source": [
        "# split data into random train and test subsets\n",
        "from sklearn.model_selection import train_test_split\n",
        "\n",
        "result = []\n",
        "for i in range(10):\n",
        "  X_train, X_test, Y_train, Y_test = train_test_split(df[[\"age\", \"sex\", \"cp\", \"trestbps\", \"chol\", \"fbs\", \"restecg\", \"thalach\", \"exang\", \"oldpeak\", \"slope\", \"ca\", \"thal\", \"condition\"]], condition, train_size = 180)\n",
        "  result.append([X_train,X_test,Y_train,Y_test])\n"
      ],
      "metadata": {
        "id": "xsQTMAHeYxr8"
      },
      "execution_count": 77,
      "outputs": []
    },
    {
      "cell_type": "code",
      "source": [
        "# Creating the random forests with 18 trees, which is the sqrt of 297 rounded up.\n",
        "from sklearn.ensemble import RandomForestClassifier\n",
        "from sklearn.metrics import roc_curve, auc\n",
        "\n",
        "auc_average = 0\n",
        "\n",
        "for split in result:\n",
        "  clf = RandomForestClassifier(n_estimators=18)\n",
        "  clf = clf.fit(X_train, Y_train)\n",
        "  y_pred = clf.predict(X_test)\n",
        "\n",
        "  false_positive_rate, true_positive_rate, thresholds = roc_curve(Y_test, y_pred)\n",
        "\n",
        "  added_auc = auc(false_positive_rate,true_positive_rate)\n",
        "  auc_average += added_auc\n",
        "\n",
        "\n",
        "auc_average = auc_average/10.0\n",
        "print(auc_average)"
      ],
      "metadata": {
        "id": "BeirJWuibbm9",
        "colab": {
          "base_uri": "https://localhost:8080/"
        },
        "outputId": "cb18fe5e-3e75-456b-e5bf-f44477362fd0"
      },
      "execution_count": 81,
      "outputs": [
        {
          "output_type": "stream",
          "name": "stdout",
          "text": [
            "0.9990909090909093\n"
          ]
        }
      ]
    },
    {
      "cell_type": "markdown",
      "source": [
        "The AUROC at 18 trees is arbitrarily close to 1, which means our model has almost perfectly predicted the presence of heart disease from our test dataset."
      ],
      "metadata": {
        "id": "u7bOA9DMdHzj"
      }
    }
  ]
}